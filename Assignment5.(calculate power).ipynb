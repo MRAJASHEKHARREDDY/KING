{
 "cells": [
  {
   "cell_type": "code",
   "execution_count": 4,
   "id": "33caa97a",
   "metadata": {},
   "outputs": [
    {
     "name": "stdout",
     "output_type": "stream",
     "text": [
      "x:10\n",
      "n:2\n",
      "power(x,n) is: 100\n"
     ]
    }
   ],
   "source": [
    "#power(x,n)\n",
    "class py_pow:\n",
    "    def power(self,x,n):\n",
    "        if x == 0 or x == 1 or n == 1:\n",
    "            return x\n",
    "        if x == -1:\n",
    "            if n % 2 == 0:\n",
    "                return 1\n",
    "            else:\n",
    "                return -1\n",
    "        if n == 0:\n",
    "            return -1\n",
    "        if n < 0:\n",
    "            return 1 / self.power(x,-n)\n",
    "        val = self.power(x,n//2)\n",
    "        if n % 2 == 0:\n",
    "            return val * val\n",
    "        return val * val * x\n",
    "x = int(input(\"x:\"))\n",
    "n = int(input(\"n:\"))\n",
    "print(\"power(x,n) is:\",py_pow().power(x,n))"
   ]
  },
  {
   "cell_type": "code",
   "execution_count": null,
   "id": "eecebafd",
   "metadata": {},
   "outputs": [],
   "source": []
  }
 ],
 "metadata": {
  "kernelspec": {
   "display_name": "Python 3",
   "language": "python",
   "name": "python3"
  },
  "language_info": {
   "codemirror_mode": {
    "name": "ipython",
    "version": 3
   },
   "file_extension": ".py",
   "mimetype": "text/x-python",
   "name": "python",
   "nbconvert_exporter": "python",
   "pygments_lexer": "ipython3",
   "version": "3.8.8"
  }
 },
 "nbformat": 4,
 "nbformat_minor": 5
}
